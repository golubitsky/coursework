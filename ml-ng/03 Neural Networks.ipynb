{
 "cells": [
  {
   "cell_type": "code",
   "execution_count": 1,
   "metadata": {
    "collapsed": true
   },
   "outputs": [],
   "source": [
    "import pandas as pd\n",
    "import numpy as np\n",
    "import seaborn as sns\n",
    "import matplotlib.pyplot as plt\n",
    "%matplotlib inline"
   ]
  },
  {
   "cell_type": "markdown",
   "metadata": {},
   "source": [
    "# Components of a Neural Network\n",
    "* Input Layer\n",
    "* Hidden Layer(s) - anything that isn't an input or output layer\n",
    "* Output layer\n",
    "\n",
    "## Notation\n",
    "| Symbol | Meaning   |\n",
    "|:-:|:-:|\n",
    "|   $x$  | inputs |\n",
    "|   $x_0$  | bias input |\n",
    "|   $x_n$  | input node $n$ |\n",
    "|   $\\theta$  | weights/parameters |\n",
    "|   $a^{(j)}_i$  | the \"activation\" (value computed by the neuron) of the $i^{th}$ neuron in layer $j$ |\n",
    "|   $\\Theta^{(j)}$  | matrix of weights controlling the function mapping from layer $j$ to layer $j + 1$ |\n",
    "|   $\\Theta^{(j)}_{tf}$  | value of the weight **to** the $t$ node in layer $j + 1$ **from** the $f$ node in layer $j$  |\n",
    "\n",
    "## The Matrix $\\Theta^{(j)}$ \n",
    "$\\Theta^{(j)}$ is a matrix having dimensions $s_{j + 1} \\times s_j + 1$, adding 1 to the columns for the bias input to layer $j + 1$. So for an input layer of 3 nodes (features) and a hidden layer of 4 nodes, we would have $\\Theta^{(1)}_{4 * 4}$. In other words, a matrix having dimension (number of nodes in next layer) times (number of nodes in this layer + 1 for the bias).\n",
    "\n",
    "Each **row** in $\\Theta$ represents the weights \n",
    "* to one node in the next layer\n",
    "* from all nodes in this layer (including the bias node)\n",
    "\n",
    "Each *columns* in $\\Theta$ represents the weights \n",
    "* to all nodes in the next layer\n",
    "* from one node in this layer (possibly the bias node)"
   ]
  },
  {
   "cell_type": "code",
   "execution_count": null,
   "metadata": {
    "collapsed": true
   },
   "outputs": [],
   "source": []
  }
 ],
 "metadata": {
  "kernelspec": {
   "display_name": "Python 3",
   "language": "python",
   "name": "python3"
  },
  "language_info": {
   "codemirror_mode": {
    "name": "ipython",
    "version": 3
   },
   "file_extension": ".py",
   "mimetype": "text/x-python",
   "name": "python",
   "nbconvert_exporter": "python",
   "pygments_lexer": "ipython3",
   "version": "3.6.3"
  }
 },
 "nbformat": 4,
 "nbformat_minor": 2
}
