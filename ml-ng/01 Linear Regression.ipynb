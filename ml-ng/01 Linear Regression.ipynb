{
 "cells": [
  {
   "cell_type": "code",
   "execution_count": 1,
   "metadata": {
    "collapsed": true
   },
   "outputs": [],
   "source": [
    "import pandas as pd\n",
    "import numpy as np\n",
    "import seaborn as sns\n",
    "import matplotlib.pyplot as plt\n",
    "%matplotlib inline"
   ]
  },
  {
   "cell_type": "code",
   "execution_count": 2,
   "metadata": {},
   "outputs": [
    {
     "name": "stdout",
     "output_type": "stream",
     "text": [
      "computeCost.m\t    ex1_multi.m\t\t    normalEqn.m       warmUpExercise.m\r\n",
      "computeCostMulti.m  featureNormalize.m\t    octave-workspace  x.ps\r\n",
      "ex1data1.txt\t    gradientDescent.m\t    plotData.m\t      X.ps\r\n",
      "ex1data2.txt\t    gradientDescentMulti.m  submit.m\r\n",
      "ex1.m\t\t    lib\t\t\t    token.mat\r\n"
     ]
    }
   ],
   "source": [
    "!ls machine-learning-ex1/ex1"
   ]
  },
  {
   "cell_type": "code",
   "execution_count": 3,
   "metadata": {
    "collapsed": true
   },
   "outputs": [],
   "source": [
    "df = pd.read_csv('machine-learning-ex1/ex1/ex1data2.txt', header=None)\n",
    "df.columns = ['square_footage', 'num_bedrooms', 'price']\n",
    "X, y = df[['square_footage', 'num_bedrooms']], df['price']\n",
    "m = X.shape[0] # number of examples\n",
    "X.insert(0, 'intercept', np.ones(m))\n",
    "n = X.shape[1] # number of features"
   ]
  },
  {
   "cell_type": "code",
   "execution_count": 4,
   "metadata": {},
   "outputs": [
    {
     "data": {
      "image/png": "[encoded data removed]",
      "text/plain": [
       "<matplotlib.figure.Figure at 0x7f3017b589b0>"
      ]
     },
     "metadata": {},
     "output_type": "display_data"
    }
   ],
   "source": [
    "pivot = df.pivot('square_footage', 'num_bedrooms', 'price')\n",
    "pivot.sort_index(inplace=True, ascending=False)\n",
    "_ = sns.heatmap(pivot)"
   ]
  },
  {
   "cell_type": "code",
   "execution_count": 5,
   "metadata": {
    "collapsed": true
   },
   "outputs": [],
   "source": [
    "def predict(X, theta):\n",
    "    return X.dot(theta)\n",
    "                 \n",
    "def compute_cost(X, y, theta):\n",
    "    m = X.shape[0]\n",
    "    squares_of_differences = (predict(X, theta) - y) ** 2\n",
    "    J = 1/(2*m) * sum(squares_of_differences)\n",
    "    return J\n",
    "\n",
    "def compute_gradient(X, y, theta):\n",
    "    # the aggregate slope of the cost function across all observations\n",
    "    m = X.shape[0]\n",
    "    return (1/m) * (X.dot(theta) - y).T.dot(X)\n",
    "\n",
    "def gradient_descent(X, y, theta, alpha, num_iters):\n",
    "    \"\"\"Runs gradient descent algorithm for given input matrix and target vectors.\n",
    "\n",
    "    Args:\n",
    "        X (matrix): The m (number of examples) x n (number of features) input matrix.\n",
    "        y (vector): The target vector.\n",
    "        alpha (str): The learning rate.\n",
    "        num_iters (str): How many times to run gradient descent.\n",
    "\n",
    "    Returns:\n",
    "        (np.array, np.array): The parameters theta and the history of the cost function.\n",
    "\n",
    "    \"\"\"\n",
    "    J_history = np.zeros(num_iters)\n",
    "    m = X.shape[0]\n",
    "        \n",
    "    for iteration in range(num_iters):\n",
    "        theta = theta - alpha * compute_gradient(X, y, theta)\n",
    "\n",
    "        # Save the cost J in every iteration for visualization  \n",
    "        J_history[iteration]= compute_cost(X, y, theta)\n",
    "        \n",
    "    return (theta, J_history)"
   ]
  },
  {
   "cell_type": "code",
   "execution_count": 6,
   "metadata": {
    "collapsed": true
   },
   "outputs": [],
   "source": [
    "def normalize_features(X):\n",
    "    # avoid division by zero\n",
    "    df_no_intercept = X.drop('intercept', axis=1)\n",
    "    normalized = (df_no_intercept - df_no_intercept.mean())/df_no_intercept.std()\n",
    "    \n",
    "    # re-insert the intercept \"feature\"\n",
    "    normalized.insert(0, 'intercept', X['intercept'])\n",
    "    return normalized"
   ]
  },
  {
   "cell_type": "code",
   "execution_count": 7,
   "metadata": {},
   "outputs": [
    {
     "data": {
      "text/plain": [
       "(2043280050.602827, 2043280050.602927)"
      ]
     },
     "execution_count": 7,
     "metadata": {},
     "output_type": "execute_result"
    },
    {
     "data": {
      "image/png": "[encoded data removed]",
      "text/plain": [
       "<matplotlib.figure.Figure at 0x7f30118e9358>"
      ]
     },
     "metadata": {},
     "output_type": "display_data"
    }
   ],
   "source": [
    "alpha = 0.1\n",
    "num_iters = 1500\n",
    "theta = np.zeros(n)\n",
    "X_normalized = normalize_features(X)\n",
    "m = X_normalized.shape[0]\n",
    "\n",
    "result, history = gradient_descent(X_normalized, y, theta, alpha, num_iters)\n",
    "plt.plot(history)\n",
    "# TODO determine when change is very small\n",
    "plt.ylim([history.min(),history.min() + 0.0001])"
   ]
  },
  {
   "cell_type": "code",
   "execution_count": 8,
   "metadata": {
    "collapsed": true
   },
   "outputs": [],
   "source": [
    "def normal_equation(X, y):\n",
    "    X_transpose = X.T\n",
    "    return np.linalg.pinv(X_transpose.dot(X)) \\\n",
    "        .dot(X_transpose) \\\n",
    "        .dot(y)"
   ]
  },
  {
   "cell_type": "code",
   "execution_count": 9,
   "metadata": {
    "collapsed": true
   },
   "outputs": [],
   "source": [
    "result_normal = normal_equation(X, y)"
   ]
  },
  {
   "cell_type": "code",
   "execution_count": 10,
   "metadata": {},
   "outputs": [
    {
     "data": {
      "text/plain": [
       "intercept         340412.659574\n",
       "square_footage    110631.050279\n",
       "num_bedrooms       -6649.474271\n",
       "dtype: float64"
      ]
     },
     "execution_count": 10,
     "metadata": {},
     "output_type": "execute_result"
    }
   ],
   "source": [
    "result"
   ]
  },
  {
   "cell_type": "markdown",
   "metadata": {},
   "source": [
    "# Validation\n",
    "Predict house price using\n",
    "* parameters obtained using gradient descent algorithm\n",
    "* parameters obtained using normal equation\n",
    "\n",
    "Predictions using both methods should be equal."
   ]
  },
  {
   "cell_type": "code",
   "execution_count": 11,
   "metadata": {},
   "outputs": [],
   "source": [
    "intercept_feature = 1\n",
    "square_footage = 1650\n",
    "num_bedrooms = 3\n",
    "\n",
    "test_input = np.array([intercept_feature, square_footage, num_bedrooms])\n",
    "\n",
    "normalized_input = np.array([\n",
    "    intercept_feature, \n",
    "    (square_footage - X['square_footage'].mean())/X['square_footage'].std(),\n",
    "    (num_bedrooms - X['num_bedrooms'].mean())/X['num_bedrooms'].std()]) # intercept, square_footage, num_bedrooms"
   ]
  },
  {
   "cell_type": "code",
   "execution_count": 12,
   "metadata": {},
   "outputs": [
    {
     "data": {
      "text/plain": [
       "(293081.4643349721, 293081.46433489595)"
      ]
     },
     "execution_count": 12,
     "metadata": {},
     "output_type": "execute_result"
    }
   ],
   "source": [
    "precision = 3\n",
    "pred_gradient_descent = result_normal.dot(test_input)\n",
    "pred_normal_equation = result.dot(normalized_input)\n",
    "\n",
    "assert(\n",
    "    pred_gradient_descent.round(precision) == pred_normal_equation.round(precision)\n",
    ")\n",
    "\n",
    "pred_gradient_descent, pred_normal_equation"
   ]
  },
  {
   "cell_type": "code",
   "execution_count": null,
   "metadata": {
    "collapsed": true
   },
   "outputs": [],
   "source": []
  }
 ],
 "metadata": {
  "kernelspec": {
   "display_name": "Python 3",
   "language": "python",
   "name": "python3"
  },
  "language_info": {
   "codemirror_mode": {
    "name": "ipython",
    "version": 3
   },
   "file_extension": ".py",
   "mimetype": "text/x-python",
   "name": "python",
   "nbconvert_exporter": "python",
   "pygments_lexer": "ipython3",
   "version": "3.6.3"
  }
 },
 "nbformat": 4,
 "nbformat_minor": 2
}
