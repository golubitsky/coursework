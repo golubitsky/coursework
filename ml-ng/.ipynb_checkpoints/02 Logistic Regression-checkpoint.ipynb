{
 "cells": [
  {
   "cell_type": "code",
   "execution_count": 3,
   "metadata": {
    "collapsed": true
   },
   "outputs": [],
   "source": [
    "import pandas as pd\n",
    "import numpy as np\n",
    "import seaborn as sns\n",
    "import matplotlib.pyplot as plt\n",
    "%matplotlib inline"
   ]
  },
  {
   "cell_type": "markdown",
   "metadata": {},
   "source": [
    "# Classification\n",
    "\n",
    "\n",
    "We could use regression with a threshold but outliers will cause the model to yield a less-accurate prediction.\n",
    "\n",
    "## Binary Classification Problems\n",
    "\n",
    "We want the output of our hypothesis to always be between 0 and 1 -- which are the two classes in the binary classification problem. In order to satisfy this constraint, we will put our hypothesis from linear regression ($\\theta^Tx$) through the sigmoid (or logistic) function:\n",
    "\n",
    "\\begin{equation}\n",
    "  h_{\\theta}(x) = g(\\theta^Tx)\n",
    "\\end{equation}\n",
    "\n",
    "where $g$ is the **sigmoid** or logistic function\n",
    "\n",
    "\\begin{equation}\n",
    "  g(z) = \\frac{1}{1 + e^{-z}};\n",
    "\\end{equation}\n",
    "\n"
   ]
  },
  {
   "cell_type": "code",
   "execution_count": 196,
   "metadata": {},
   "outputs": [
    {
     "data": {
      "image/png": "[encoded data removed]",
      "text/plain": [
       "<matplotlib.figure.Figure at 0x7f7ddafde7f0>"
      ]
     },
     "metadata": {},
     "output_type": "display_data"
    }
   ],
   "source": [
    "def sigmoid(z):\n",
    "    return 1/(1 + np.exp(-z))\n",
    "\n",
    "x=np.linspace(-5, 5, 100)\n",
    "y=list(map(sigmoid, x))\n",
    "plt.plot(x,y)\n",
    "_ = plt.xlim([-5,5])"
   ]
  },
  {
   "cell_type": "markdown",
   "metadata": {},
   "source": [
    "We have the logistic regression model of\n",
    "\n",
    "\\begin{equation}\n",
    "  h_{\\theta}(x) = \\frac{1}{1 + e^{-\\theta^Tx}}.\n",
    "\\end{equation}\n",
    "\n",
    "## Interpreting the Hypothesis\n",
    "The output of the hypothesis is interpreted as the probability that y = 1, given x, parameterized by theta:\n",
    "\n",
    "\\begin{equation}\n",
    "  h_{\\theta}(x) = P(y = 1 \\mid x;\\theta).\n",
    "\\end{equation}\n",
    "\n",
    "It is a property of the logistic function that $g(z) \\geq 0.5$ when $z \\geq 0$. If we assume the we'll predict $y = 1$ for $h_{\\theta}(x) \\geq 0.5$ and $y = 0$ otherwise, we will predict $y = 1$ for $\\theta^Tx \\geq 0$, and $y = 0$ for $\\theta^Tx < 0$.\n",
    "\n",
    "## Decision Boundary\n",
    "\n",
    "For an input in two dimensions, the **decision boundary** is that line that separates the region of the $x_1x_2$ plane where we predict $y = 0$ from the region where we predict $y = 1$. For values of $x_1$ and $x_2$ that fall on this line, $h_{\\theta}(x) = 0.5$.\n",
    "\n",
    "The decision boundary is a property of the hypothesis and the parameters $\\theta$, and *not* of the dataset. It is an equation that we can arrive at once we've set all of our parameters for our model. The training set is used to fit $\\theta$.\n",
    "\n",
    "We are not limited to linear hypotheses: higher-order polynomial hypotheses will yield non-linear decision boundaries, depending on the particular polynomial/model."
   ]
  },
  {
   "cell_type": "markdown",
   "metadata": {},
   "source": [
    "# Cost function\n",
    "We can't use the same cost function for logistic regression as we used for linear regression because that function will cause the output to be non-convex, i.e. have more than one optimum. Instead we can use\n",
    "\n",
    "\\begin{equation}\n",
    "    J(\\theta) = \\frac{1}{m} \\sum_{i = 1}^{m} Cost(h_{\\theta}(x^{(i)}),y^{(i)})\n",
    "\\end{equation}\n",
    "\n",
    "\\begin{equation}\n",
    "  Cost(h_{\\theta}(x),y) =\n",
    "    \\begin{cases}\n",
    "      -\\log(h_{\\theta}(x)) & \\text{if y = 1}\\\\\n",
    "      -\\log(1 - h_{\\theta}(x)) & \\text{if y = 0}\\\\\n",
    "    \\end{cases}       \n",
    "\\end{equation}\n",
    "\n",
    "This function is guaranteed to be convex. The more wrong a hypothesis is, the higher the cost; a prediction of $h_{\\theta}(x) = 0.5$ has a non-zero cost in both cases."
   ]
  },
  {
   "cell_type": "code",
   "execution_count": 197,
   "metadata": {},
   "outputs": [
    {
     "data": {
      "image/png": "[encoded data removed]",
      "text/plain": [
       "<matplotlib.figure.Figure at 0x7f7ddb113f98>"
      ]
     },
     "metadata": {},
     "output_type": "display_data"
    }
   ],
   "source": [
    "x = np.linspace(0.00001, 1, 100, endpoint=False)\n",
    "y_1 = -np.log(x)\n",
    "y_0 = -np.log(1 - x)\n",
    "\n",
    "fig, (ax1, ax2) = plt.subplots(1, 2, sharey=True)\n",
    "fig.text(0.5, 0.04, 'Hypothesis Output', ha='center')\n",
    "ax1.plot(x, y_1)\n",
    "ax1.set_title('y = 1')\n",
    "ax1.set_ylabel('Cost')\n",
    "ax2.plot(x, y_0)\n",
    "_ = ax2.set_title('y = 0')"
   ]
  },
  {
   "cell_type": "markdown",
   "metadata": {},
   "source": [
    "There's a cool way to combine the if'd cost function above into one\n",
    "\n",
    "\\begin{equation}\n",
    "    Cost(h_{\\theta}(x),y) =\n",
    "      -y\\log(h_{\\theta}(x))\n",
    "      - \n",
    "      (1 -y)\\log(1 - h_{\\theta}(x))\n",
    "\\end{equation}\n",
    "\n",
    "such that if $y = 0$ the first term will be multiplied by 0, canceling it out, and if $y = 1$ the second term will be multiplied by 0, canceling _it_ out! Pretty sweet. For binary classification problems, we know that $y \\in {0, 1}$.\n",
    "\n",
    "This cost function can be derived by statistics using the principal of **maximum likelihood estimation**. "
   ]
  },
  {
   "cell_type": "markdown",
   "metadata": {},
   "source": [
    "# Gradient Descent\n",
    "As before (in linear regression) our goal is to fit the parameters $\\theta$ by minimizing the cost function $J(\\theta)$ so as to be able to make a prediction given a new $x$ using\n",
    "\\begin{equation}\n",
    "  h_{\\theta}(x) = \\frac{1}{1 + e^{-\\theta^Tx}}.\n",
    "\\end{equation}\n",
    "\n",
    "Our parameter update function for a gradient descent step will have the same form as before:\n",
    "\\begin{equation}\n",
    "    \\theta_j := \\theta_j - \\alpha \\frac{\\partial}{\\partial \\theta_j}J(\\theta)\n",
    "\\end{equation}\n",
    "where we simultaneously update all $\\theta_j$.\n",
    "\n",
    "The partial derivative of the cost function is\n",
    "\\begin{equation}\n",
    "    \\frac{\\partial}{\\partial \\theta_j}J(\\theta) = \n",
    "        \\sum_{i=1}^m = (h_{\\theta}(x^{(i)}) - y^{(i)})\n",
    "            x^{(i)}_j\n",
    "\\end{equation}\n",
    "\n",
    "which is the same as it was for linear regression! But the definition of the hypothesis _has_ changed.\n",
    "\n",
    "As with linear regression\n",
    "* we can check that gradient descent is working by plotting $J(\\theta)$ and observing it decreasing for each subsequent iteration of the algorithm.\n",
    "* feature scaling can be used to speed up the algorithm.\n",
    "\n",
    "# Vectorized Implementations\n",
    "## Cost Function\n",
    "\\begin{equation}\n",
    "    h = g(X\\theta)\n",
    "\\end{equation}\n",
    "\n",
    "\\begin{equation}\n",
    "    J(\\theta) = \\frac{1}{m} \\cdot (\n",
    "        -y^T\\log(h) - (1 - y)^T(\\log(1 - h)\n",
    "    )\n",
    "\\end{equation}\n",
    "## Gradient Descent\n",
    "\\begin{equation}\n",
    "    \\theta := \\theta - \\alpha \\frac{1}{m}X^T(g(X\\theta) - \\hat y)\n",
    "\\end{equation}"
   ]
  },
  {
   "cell_type": "markdown",
   "metadata": {},
   "source": [
    "Suppose that you are the administrator of a university department and\n",
    "you want to determine each applicant’s chance of admission based on their\n",
    "results on two exams. You have historical data from previous applicants\n",
    "that you can use as a training set for logistic regression. For each training\n",
    "example, you have the applicant’s scores on two exams and the admissions\n",
    "decision."
   ]
  },
  {
   "cell_type": "code",
   "execution_count": 24,
   "metadata": {},
   "outputs": [
    {
     "data": {
      "text/html": [
       "<div>\n",
       "<style>\n",
       "    .dataframe thead tr:only-child th {\n",
       "        text-align: right;\n",
       "    }\n",
       "\n",
       "    .dataframe thead th {\n",
       "        text-align: left;\n",
       "    }\n",
       "\n",
       "    .dataframe tbody tr th {\n",
       "        vertical-align: top;\n",
       "    }\n",
       "</style>\n",
       "<table border=\"1\" class=\"dataframe\">\n",
       "  <thead>\n",
       "    <tr style=\"text-align: right;\">\n",
       "      <th></th>\n",
       "      <th>exam1</th>\n",
       "      <th>exam2</th>\n",
       "      <th>admitted</th>\n",
       "    </tr>\n",
       "  </thead>\n",
       "  <tbody>\n",
       "    <tr>\n",
       "      <th>0</th>\n",
       "      <td>34.623660</td>\n",
       "      <td>78.024693</td>\n",
       "      <td>0</td>\n",
       "    </tr>\n",
       "    <tr>\n",
       "      <th>1</th>\n",
       "      <td>30.286711</td>\n",
       "      <td>43.894998</td>\n",
       "      <td>0</td>\n",
       "    </tr>\n",
       "    <tr>\n",
       "      <th>2</th>\n",
       "      <td>35.847409</td>\n",
       "      <td>72.902198</td>\n",
       "      <td>0</td>\n",
       "    </tr>\n",
       "    <tr>\n",
       "      <th>3</th>\n",
       "      <td>60.182599</td>\n",
       "      <td>86.308552</td>\n",
       "      <td>1</td>\n",
       "    </tr>\n",
       "    <tr>\n",
       "      <th>4</th>\n",
       "      <td>79.032736</td>\n",
       "      <td>75.344376</td>\n",
       "      <td>1</td>\n",
       "    </tr>\n",
       "  </tbody>\n",
       "</table>\n",
       "</div>"
      ],
      "text/plain": [
       "       exam1      exam2  admitted\n",
       "0  34.623660  78.024693         0\n",
       "1  30.286711  43.894998         0\n",
       "2  35.847409  72.902198         0\n",
       "3  60.182599  86.308552         1\n",
       "4  79.032736  75.344376         1"
      ]
     },
     "execution_count": 24,
     "metadata": {},
     "output_type": "execute_result"
    }
   ],
   "source": [
    "df = pd.read_csv('machine-learning-ex2/ex2/ex2data1.txt', header=None)\n",
    "df.columns = ['exam1', 'exam2', 'admitted']\n",
    "df.head()"
   ]
  },
  {
   "cell_type": "code",
   "execution_count": 298,
   "metadata": {
    "collapsed": true
   },
   "outputs": [],
   "source": [
    "X, y = df[['exam1', 'exam2']], df['admitted']\n",
    "m = X.shape[0] # number of examples\n",
    "X.insert(0, 'intercept', np.ones(m))\n",
    "n = X.shape[1] # number of features"
   ]
  },
  {
   "cell_type": "code",
   "execution_count": 299,
   "metadata": {},
   "outputs": [
    {
     "data": {
      "image/png": "[encoded data removed]",
      "text/plain": [
       "<matplotlib.figure.Figure at 0x7f7ddacc6b00>"
      ]
     },
     "metadata": {},
     "output_type": "display_data"
    }
   ],
   "source": [
    "g = sns.lmplot('exam1', 'exam2', data=df,\n",
    "               hue='admitted', palette=[\"red\", \"blue\"],\n",
    "               legend=False, fit_reg=False)\n",
    "g.ax.legend(labels=['Not Admitted','Admitted'], loc=0, bbox_to_anchor=(1.3,1))\n",
    "\n",
    "plt.xlabel('Exam 1 Score')\n",
    "_ = plt.ylabel('Exam 2 Score')"
   ]
  },
  {
   "cell_type": "code",
   "execution_count": 316,
   "metadata": {},
   "outputs": [],
   "source": [
    "def hypothesis(theta, X):\n",
    "    return sigmoid(X.dot(theta))\n",
    "\n",
    "def compute_cost(theta, X, y):\n",
    "    h = hypothesis(theta, X)\n",
    "    term1 = -y * np.log(h) # cancelled if y == 0\n",
    "    term2 = -(1-y) * np.log(1-h) # cancelled if y == 1\n",
    "    return sum(term1 + term2)/m\n",
    "\n",
    "def compute_gradient(theta, X, y):\n",
    "    h = hypothesis(theta, X)\n",
    "    return (X.T.dot((h - y)))/m"
   ]
  },
  {
   "cell_type": "code",
   "execution_count": 323,
   "metadata": {},
   "outputs": [
    {
     "data": {
      "text/plain": [
       "0.6931471805599458"
      ]
     },
     "execution_count": 323,
     "metadata": {},
     "output_type": "execute_result"
    }
   ],
   "source": [
    "# With initial values of theta = 0 you should see that the cost is about 0.693.\n",
    "theta = np.zeros(n)\n",
    "compute_cost(X, y, theta)"
   ]
  },
  {
   "cell_type": "markdown",
   "metadata": {},
   "source": [
    "# Advanced Optimization Techniques\n",
    "Gradient descent isn't the only way to optimize the parameters $\\theta$; examples of other optimization algorithms are\n",
    "* [Conjugate Descent](https://en.wikipedia.org/wiki/Conjugate_gradient_method)\n",
    "* [BFGS](https://en.wikipedia.org/wiki/Broyden%E2%80%93Fletcher%E2%80%93Goldfarb%E2%80%93Shanno_algorithm)\n",
    "* [L-BFGS](https://en.wikipedia.org/wiki/Limited-memory_BFGS)\n",
    "\n",
    "The advantages of these other algorithms is that we don't need to pick a learning rate $\\alpha$ and they run more quickly than gradient descent; however, the algorithms are more complex.\n",
    "\n",
    "They are useful for larger machine learning problems."
   ]
  },
  {
   "cell_type": "code",
   "execution_count": 331,
   "metadata": {},
   "outputs": [
    {
     "data": {
      "text/plain": [
       "numpy.float64"
      ]
     },
     "execution_count": 331,
     "metadata": {},
     "output_type": "execute_result"
    }
   ],
   "source": [
    "type(compute_cost(X, y, theta))"
   ]
  },
  {
   "cell_type": "code",
   "execution_count": 324,
   "metadata": {},
   "outputs": [
    {
     "ename": "ValueError",
     "evalue": "shapes (3,) and (100,) not aligned: 3 (dim 0) != 100 (dim 0)",
     "output_type": "error",
     "traceback": [
      "\u001b[0;31m---------------------------------------------------------------------------\u001b[0m",
      "\u001b[0;31mValueError\u001b[0m                                Traceback (most recent call last)",
      "\u001b[0;32m<ipython-input-324-29010cc7054b>\u001b[0m in \u001b[0;36m<module>\u001b[0;34m()\u001b[0m\n\u001b[1;32m      9\u001b[0m                   \u001b[0mjac\u001b[0m\u001b[0;34m=\u001b[0m\u001b[0mcompute_gradient\u001b[0m\u001b[0;34m,\u001b[0m\u001b[0;34m\u001b[0m\u001b[0m\n\u001b[1;32m     10\u001b[0m                   \u001b[0mmethod\u001b[0m\u001b[0;34m=\u001b[0m\u001b[0;34m'TNC'\u001b[0m\u001b[0;34m,\u001b[0m\u001b[0;34m\u001b[0m\u001b[0m\n\u001b[0;32m---> 11\u001b[0;31m                   options=options)\n\u001b[0m",
      "\u001b[0;32m~/anaconda3/lib/python3.6/site-packages/scipy/optimize/_minimize.py\u001b[0m in \u001b[0;36mminimize\u001b[0;34m(fun, x0, args, method, jac, hess, hessp, bounds, constraints, tol, callback, options)\u001b[0m\n\u001b[1;32m    451\u001b[0m     \u001b[0;32melif\u001b[0m \u001b[0mmeth\u001b[0m \u001b[0;34m==\u001b[0m \u001b[0;34m'tnc'\u001b[0m\u001b[0;34m:\u001b[0m\u001b[0;34m\u001b[0m\u001b[0m\n\u001b[1;32m    452\u001b[0m         return _minimize_tnc(fun, x0, args, jac, bounds, callback=callback,\n\u001b[0;32m--> 453\u001b[0;31m                              **options)\n\u001b[0m\u001b[1;32m    454\u001b[0m     \u001b[0;32melif\u001b[0m \u001b[0mmeth\u001b[0m \u001b[0;34m==\u001b[0m \u001b[0;34m'cobyla'\u001b[0m\u001b[0;34m:\u001b[0m\u001b[0;34m\u001b[0m\u001b[0m\n\u001b[1;32m    455\u001b[0m         \u001b[0;32mreturn\u001b[0m \u001b[0m_minimize_cobyla\u001b[0m\u001b[0;34m(\u001b[0m\u001b[0mfun\u001b[0m\u001b[0;34m,\u001b[0m \u001b[0mx0\u001b[0m\u001b[0;34m,\u001b[0m \u001b[0margs\u001b[0m\u001b[0;34m,\u001b[0m \u001b[0mconstraints\u001b[0m\u001b[0;34m,\u001b[0m \u001b[0;34m**\u001b[0m\u001b[0moptions\u001b[0m\u001b[0;34m)\u001b[0m\u001b[0;34m\u001b[0m\u001b[0m\n",
      "\u001b[0;32m~/anaconda3/lib/python3.6/site-packages/scipy/optimize/tnc.py\u001b[0m in \u001b[0;36m_minimize_tnc\u001b[0;34m(fun, x0, args, jac, bounds, eps, scale, offset, mesg_num, maxCGit, maxiter, eta, stepmx, accuracy, minfev, ftol, xtol, gtol, rescale, disp, callback, **unknown_options)\u001b[0m\n\u001b[1;32m    407\u001b[0m                                         \u001b[0moffset\u001b[0m\u001b[0;34m,\u001b[0m \u001b[0mmessages\u001b[0m\u001b[0;34m,\u001b[0m \u001b[0mmaxCGit\u001b[0m\u001b[0;34m,\u001b[0m \u001b[0mmaxfun\u001b[0m\u001b[0;34m,\u001b[0m\u001b[0;34m\u001b[0m\u001b[0m\n\u001b[1;32m    408\u001b[0m                                         \u001b[0meta\u001b[0m\u001b[0;34m,\u001b[0m \u001b[0mstepmx\u001b[0m\u001b[0;34m,\u001b[0m \u001b[0maccuracy\u001b[0m\u001b[0;34m,\u001b[0m \u001b[0mfmin\u001b[0m\u001b[0;34m,\u001b[0m \u001b[0mftol\u001b[0m\u001b[0;34m,\u001b[0m\u001b[0;34m\u001b[0m\u001b[0m\n\u001b[0;32m--> 409\u001b[0;31m                                         xtol, pgtol, rescale, callback)\n\u001b[0m\u001b[1;32m    410\u001b[0m \u001b[0;34m\u001b[0m\u001b[0m\n\u001b[1;32m    411\u001b[0m     \u001b[0mfunv\u001b[0m\u001b[0;34m,\u001b[0m \u001b[0mjacv\u001b[0m \u001b[0;34m=\u001b[0m \u001b[0mfunc_and_grad\u001b[0m\u001b[0;34m(\u001b[0m\u001b[0mx\u001b[0m\u001b[0;34m)\u001b[0m\u001b[0;34m\u001b[0m\u001b[0m\n",
      "\u001b[0;32m~/anaconda3/lib/python3.6/site-packages/scipy/optimize/tnc.py\u001b[0m in \u001b[0;36mfunc_and_grad\u001b[0;34m(x)\u001b[0m\n\u001b[1;32m    369\u001b[0m     \u001b[0;32melse\u001b[0m\u001b[0;34m:\u001b[0m\u001b[0;34m\u001b[0m\u001b[0m\n\u001b[1;32m    370\u001b[0m         \u001b[0;32mdef\u001b[0m \u001b[0mfunc_and_grad\u001b[0m\u001b[0;34m(\u001b[0m\u001b[0mx\u001b[0m\u001b[0;34m)\u001b[0m\u001b[0;34m:\u001b[0m\u001b[0;34m\u001b[0m\u001b[0m\n\u001b[0;32m--> 371\u001b[0;31m             \u001b[0mf\u001b[0m \u001b[0;34m=\u001b[0m \u001b[0mfun\u001b[0m\u001b[0;34m(\u001b[0m\u001b[0mx\u001b[0m\u001b[0;34m,\u001b[0m \u001b[0;34m*\u001b[0m\u001b[0margs\u001b[0m\u001b[0;34m)\u001b[0m\u001b[0;34m\u001b[0m\u001b[0m\n\u001b[0m\u001b[1;32m    372\u001b[0m             \u001b[0mg\u001b[0m \u001b[0;34m=\u001b[0m \u001b[0mjac\u001b[0m\u001b[0;34m(\u001b[0m\u001b[0mx\u001b[0m\u001b[0;34m,\u001b[0m \u001b[0;34m*\u001b[0m\u001b[0margs\u001b[0m\u001b[0;34m)\u001b[0m\u001b[0;34m\u001b[0m\u001b[0m\n\u001b[1;32m    373\u001b[0m             \u001b[0;32mreturn\u001b[0m \u001b[0mf\u001b[0m\u001b[0;34m,\u001b[0m \u001b[0mg\u001b[0m\u001b[0;34m\u001b[0m\u001b[0m\n",
      "\u001b[0;32m<ipython-input-316-f771e2749cb8>\u001b[0m in \u001b[0;36mcompute_cost\u001b[0;34m(X, y, theta)\u001b[0m\n\u001b[1;32m      3\u001b[0m \u001b[0;34m\u001b[0m\u001b[0m\n\u001b[1;32m      4\u001b[0m \u001b[0;32mdef\u001b[0m \u001b[0mcompute_cost\u001b[0m\u001b[0;34m(\u001b[0m\u001b[0mX\u001b[0m\u001b[0;34m,\u001b[0m \u001b[0my\u001b[0m\u001b[0;34m,\u001b[0m \u001b[0mtheta\u001b[0m\u001b[0;34m)\u001b[0m\u001b[0;34m:\u001b[0m\u001b[0;34m\u001b[0m\u001b[0m\n\u001b[0;32m----> 5\u001b[0;31m     \u001b[0mh\u001b[0m \u001b[0;34m=\u001b[0m \u001b[0mhypothesis\u001b[0m\u001b[0;34m(\u001b[0m\u001b[0mX\u001b[0m\u001b[0;34m,\u001b[0m \u001b[0mtheta\u001b[0m\u001b[0;34m)\u001b[0m\u001b[0;34m\u001b[0m\u001b[0m\n\u001b[0m\u001b[1;32m      6\u001b[0m     \u001b[0mterm1\u001b[0m \u001b[0;34m=\u001b[0m \u001b[0;34m-\u001b[0m\u001b[0my\u001b[0m \u001b[0;34m*\u001b[0m \u001b[0mnp\u001b[0m\u001b[0;34m.\u001b[0m\u001b[0mlog\u001b[0m\u001b[0;34m(\u001b[0m\u001b[0mh\u001b[0m\u001b[0;34m)\u001b[0m \u001b[0;31m# cancelled if y == 0\u001b[0m\u001b[0;34m\u001b[0m\u001b[0m\n\u001b[1;32m      7\u001b[0m     \u001b[0mterm2\u001b[0m \u001b[0;34m=\u001b[0m \u001b[0;34m-\u001b[0m\u001b[0;34m(\u001b[0m\u001b[0;36m1\u001b[0m\u001b[0;34m-\u001b[0m\u001b[0my\u001b[0m\u001b[0;34m)\u001b[0m \u001b[0;34m*\u001b[0m \u001b[0mnp\u001b[0m\u001b[0;34m.\u001b[0m\u001b[0mlog\u001b[0m\u001b[0;34m(\u001b[0m\u001b[0;36m1\u001b[0m\u001b[0;34m-\u001b[0m\u001b[0mh\u001b[0m\u001b[0;34m)\u001b[0m \u001b[0;31m# cancelled if y == 1\u001b[0m\u001b[0;34m\u001b[0m\u001b[0m\n",
      "\u001b[0;32m<ipython-input-316-f771e2749cb8>\u001b[0m in \u001b[0;36mhypothesis\u001b[0;34m(X, theta)\u001b[0m\n\u001b[1;32m      1\u001b[0m \u001b[0;32mdef\u001b[0m \u001b[0mhypothesis\u001b[0m\u001b[0;34m(\u001b[0m\u001b[0mX\u001b[0m\u001b[0;34m,\u001b[0m \u001b[0mtheta\u001b[0m\u001b[0;34m)\u001b[0m\u001b[0;34m:\u001b[0m\u001b[0;34m\u001b[0m\u001b[0m\n\u001b[0;32m----> 2\u001b[0;31m     \u001b[0;32mreturn\u001b[0m \u001b[0msigmoid\u001b[0m\u001b[0;34m(\u001b[0m\u001b[0mX\u001b[0m\u001b[0;34m.\u001b[0m\u001b[0mdot\u001b[0m\u001b[0;34m(\u001b[0m\u001b[0mtheta\u001b[0m\u001b[0;34m)\u001b[0m\u001b[0;34m)\u001b[0m\u001b[0;34m\u001b[0m\u001b[0m\n\u001b[0m\u001b[1;32m      3\u001b[0m \u001b[0;34m\u001b[0m\u001b[0m\n\u001b[1;32m      4\u001b[0m \u001b[0;32mdef\u001b[0m \u001b[0mcompute_cost\u001b[0m\u001b[0;34m(\u001b[0m\u001b[0mX\u001b[0m\u001b[0;34m,\u001b[0m \u001b[0my\u001b[0m\u001b[0;34m,\u001b[0m \u001b[0mtheta\u001b[0m\u001b[0;34m)\u001b[0m\u001b[0;34m:\u001b[0m\u001b[0;34m\u001b[0m\u001b[0m\n\u001b[1;32m      5\u001b[0m     \u001b[0mh\u001b[0m \u001b[0;34m=\u001b[0m \u001b[0mhypothesis\u001b[0m\u001b[0;34m(\u001b[0m\u001b[0mX\u001b[0m\u001b[0;34m,\u001b[0m \u001b[0mtheta\u001b[0m\u001b[0;34m)\u001b[0m\u001b[0;34m\u001b[0m\u001b[0m\n",
      "\u001b[0;31mValueError\u001b[0m: shapes (3,) and (100,) not aligned: 3 (dim 0) != 100 (dim 0)"
     ]
    }
   ],
   "source": [
    "import scipy.optimize as optimize\n",
    "\n",
    "# You should see that the cost is about 0.203.\n",
    "# This final θ value will then be used to plot the decision boundary on the training data.\n",
    "options= {'maxiter': 400}\n",
    "optimize.minimize(fun=compute_cost,\n",
    "                  x0=theta,\n",
    "                  args=(X, y),\n",
    "                  jac=compute_gradient,\n",
    "                  method='TNC',\n",
    "                  options=options)"
   ]
  },
  {
   "cell_type": "code",
   "execution_count": 305,
   "metadata": {},
   "outputs": [
    {
     "name": "stdout",
     "output_type": "stream",
     "text": [
      "Theta:\n",
      " intercept    0.001000\n",
      "exam1        0.120092\n",
      "exam2        0.112628\n",
      "dtype: float64\n",
      "Cost:\n",
      " 4.960600143358933\n",
      "\n",
      "Theta:\n",
      " intercept   -0.003000\n",
      "exam1       -0.088034\n",
      "exam2       -0.105849\n",
      "dtype: float64\n",
      "Cost:\n",
      " 8.645471645494405\n",
      "\n",
      "Theta:\n",
      " intercept    0.003000\n",
      "exam1        0.360264\n",
      "exam2        0.337872\n",
      "dtype: float64\n",
      "Cost:\n",
      " nan\n",
      "\n",
      "Theta:\n",
      " intercept   -0.001000\n",
      "exam1        0.152135\n",
      "exam2        0.119390\n",
      "dtype: float64\n",
      "Cost:\n",
      " 5.774430398356618\n",
      "\n",
      "Theta:\n",
      " intercept   -0.005000\n",
      "exam1       -0.055993\n",
      "exam2       -0.099091\n",
      "dtype: float64\n",
      "Cost:\n",
      " 6.910500822001945\n",
      "\n",
      "Theta:\n",
      " intercept    0.000998\n",
      "exam1        0.392222\n",
      "exam2        0.344551\n",
      "dtype: float64\n",
      "Cost:\n",
      " nan\n",
      "\n",
      "Theta:\n",
      " intercept   -0.003002\n",
      "exam1        0.184092\n",
      "exam2        0.126070\n",
      "dtype: float64\n",
      "Cost:\n",
      " 6.584694094674066\n",
      "\n"
     ]
    },
    {
     "name": "stderr",
     "output_type": "stream",
     "text": [
      "/home/mikhailgolubitsky/anaconda3/lib/python3.6/site-packages/ipykernel_launcher.py:7: RuntimeWarning: divide by zero encountered in log\n",
      "  import sys\n"
     ]
    },
    {
     "data": {
      "text/plain": [
       "0.6931471805599458"
      ]
     },
     "execution_count": 305,
     "metadata": {},
     "output_type": "execute_result"
    }
   ],
   "source": [
    "def gradient_descent(X, y, theta, alpha, num_iters):\n",
    "    \"\"\"Runs gradient descent algorithm for given input matrix and target vectors.\n",
    "\n",
    "    Args:\n",
    "        X (matrix): The m (number of examples) x n (number of features) input matrix.\n",
    "        y (vector): The target vector.\n",
    "        alpha (str): The learning rate.\n",
    "        num_iters (str): How many times to run gradient descent.\n",
    "\n",
    "    Returns:\n",
    "        (np.array, np.array): The parameters theta and the history of the cost function.\n",
    "\n",
    "    \"\"\"\n",
    "    J_history = np.zeros(num_iters)\n",
    "    m = X.shape[0]\n",
    "        \n",
    "    for iteration in range(num_iters):\n",
    "        theta = theta - alpha * compute_gradient(X, y, theta)\n",
    "        print(f'Theta:\\n {theta}')\n",
    "        print(f'Cost:\\n {compute_cost(X, y, theta)}\\n')\n",
    "        # Save the cost J in every iteration for visualization  \n",
    "        J_history[iteration]= compute_cost(X, y, theta)\n",
    "        \n",
    "    return (theta, J_history)\n",
    "\n",
    "alpha = 0.01\n",
    "num_iters = 7\n",
    "gradient_descent(X, y, theta, alpha, num_iters)\n",
    "compute_cost(X, y, theta)"
   ]
  },
  {
   "cell_type": "markdown",
   "metadata": {},
   "source": [
    "# Multiclass Classification Problems\n",
    "Examples:\n",
    "* Email tagging: Work, Friends, Family\n",
    "* Medical diagrams: Not ill, cold, flu\n",
    "* Weather: Sunny, Cloudy, Rain, Snow\n",
    "\n",
    "Each of the classes are represented with discrete values of $y$, for $y \\in {0..n}$.\n",
    "\n",
    "## One-vs-all (One-vs-rest)\n",
    "\n",
    "We can treat a multiclass classification problem as a collection of binary classifiers that find the probability that a given example is of a particular class. To do this, we convert our class values to $y = 0$ for all classes that aren't the target class, and to $y = 1$ for the target class. We then take the maximum of each of these binary classifiers, yielding the most confident value as our final prediction."
   ]
  },
  {
   "cell_type": "markdown",
   "metadata": {},
   "source": [
    "# The Problem Of Overfitting\n",
    "Linear regression and logistic regression are both prone to **overfitting**. Overfitting describes the situation when our algorithm has arrived at parameters $\\theta$ that so precisely predict values of $y$ for the training set that they learn the noise in the training data and actually end up yielding poor results for predictions of $y$ outside the training set (i.e. the algorithm **generalizes** poorly).\n",
    "\n",
    "We are particularly prone to overfitting when we have a high number of features and a small training set. The more features we add, the better performance we are likely to get on the training set, but the more likely we are to not generalize well.\n",
    "\n",
    "## Bias-variance Tradeoff\n",
    "We can also **underfit** the data, where the algorithm doesn't \"learn enough\" about the data. This is also known as \"the algorithm has **high bias**.\" When we overfit the data, this is also known as \"the algorithm has **high variance**.\" This tradeoff between over- and underfitting is known as the [bias-variance tradeoff](https://en.wikipedia.org/wiki/Bias%E2%80%93variance_tradeoff).\n",
    "\n",
    "## What To Do About Overfitting\n",
    "\n",
    "1. Reduce the number of features\n",
    "    * Manually select which features to keep\n",
    "    * Model selection algorithms\n",
    "2. Regularization\n",
    "    * Keep all the features, but reduce the magnitude of parameters $\\theta_j$\n",
    "    * Works well when we have a lot of features that each contribute to predicting $y$\n",
    "    \n",
    "## Regularization\n",
    "We want to reduce the complexity of the model to avoid overfitting. One way to do this is to decrease the value of $\\theta_j$ by \"penalizing\" large values. Removing a higher-order term will greatly simplify the model (e.g. removing $x^2$ from a quadratic equation will yield a linear model, which is simpler), and decreasing the coefficient of a higher-order term will moderately simplify the model. We don't want to penalize _too_ much because that will cause underfitting (e.g. if we remove all the higher order terms we get a linear model, which may not fit the data well at all).\n",
    "\n",
    "Goals:\n",
    "1. Fit the training data well to avoid underfitting\n",
    "2. Keep the parameters small to avoid overfitting\n",
    "\n",
    "The **regularization parameter**, lambda ($\\lambda$), controls the tradeoff between these goals. If it's set too low, it's as though the extra term in the cost function $J$ weren't there, and so we'll end up overfitting. If it's set too high, we'll penalize all the parameters too much and we'll end up underfitting by removing the effects of all the features from the hypothesis and essentially fitting a straight line of $h_{\\theta}(x) = \\theta_0$."
   ]
  },
  {
   "cell_type": "code",
   "execution_count": null,
   "metadata": {
    "collapsed": true
   },
   "outputs": [],
   "source": []
  }
 ],
 "metadata": {
  "kernelspec": {
   "display_name": "Python 3",
   "language": "python",
   "name": "python3"
  },
  "language_info": {
   "codemirror_mode": {
    "name": "ipython",
    "version": 3
   },
   "file_extension": ".py",
   "mimetype": "text/x-python",
   "name": "python",
   "nbconvert_exporter": "python",
   "pygments_lexer": "ipython3",
   "version": "3.6.3"
  }
 },
 "nbformat": 4,
 "nbformat_minor": 2
}
