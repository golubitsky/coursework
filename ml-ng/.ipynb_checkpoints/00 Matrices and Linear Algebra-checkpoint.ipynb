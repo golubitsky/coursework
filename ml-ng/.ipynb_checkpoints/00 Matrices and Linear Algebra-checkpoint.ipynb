{
 "cells": [
  {
   "cell_type": "code",
   "execution_count": 1,
   "metadata": {
    "collapsed": true
   },
   "outputs": [],
   "source": [
    "import numpy as np\n"
   ]
  },
  {
   "cell_type": "markdown",
   "metadata": {},
   "source": [
    "\n",
    "# Matrices\n",
    "## Order\n",
    "The order of a matrix is written as $m \\times n$ where $m$ is the number of rows and $n$ is the number of columns.  \n",
    "$A$ is a $2 \\times 3$ matrix:\n",
    "$$\n",
    "A = \\begin{bmatrix} \n",
    "x_{11} & x_{12} & x_{13} \\\\\n",
    "x_{21} & x_{22} & x_{23} \n",
    "\\end{bmatrix}\n",
    "$$\n",
    "$B$ is a $3 \\times 4$ matrix:\n",
    "$$\n",
    "B = \\begin{bmatrix} \n",
    "x_{11} & x_{12} & x_{13} & x_{14} \\\\\n",
    "x_{21} & x_{22} & x_{23} & x_{24} \\\\\n",
    "x_{31} & x_{32} & x_{33} & x_{34} \\\\\n",
    "\\end{bmatrix}\n",
    "$$\n",
    "\n",
    "## Addition and Subtraction\n",
    "We can add and subtract matrices of identical order.\n",
    "$$\n",
    "\\begin{bmatrix} \n",
    "1 & 2 \\\\\n",
    "3 & 4 \n",
    "\\end{bmatrix} + \n",
    "\\begin{bmatrix} \n",
    "5 & 6 \\\\\n",
    "7 & 8 \n",
    "\\end{bmatrix} =\n",
    "\\begin{bmatrix} \n",
    "6 & 8 \\\\\n",
    "6 & 12 \n",
    "\\end{bmatrix}\n",
    "$$\n",
    "\n",
    "$$\n",
    "\\begin{bmatrix} \n",
    "4 & 2 \\\\\n",
    "2 & 4 \n",
    "\\end{bmatrix} -\n",
    "\\begin{bmatrix} \n",
    "5 & 6 \\\\\n",
    "7 & 8 \n",
    "\\end{bmatrix} =\n",
    "\\begin{bmatrix} \n",
    "-1 & -4 \\\\\n",
    "-5 & -4 \n",
    "\\end{bmatrix}\n",
    "$$\n",
    "\n",
    "We can also add scalars to and subtract scalars from matrices.\n",
    "\n",
    "$$\n",
    "\\begin{bmatrix} \n",
    "1 & 2 \\\\\n",
    "3 & 4 \n",
    "\\end{bmatrix}\n",
    "+ 6 =\n",
    "\\begin{bmatrix} \n",
    "7 & 8 \\\\\n",
    "9 & 10 \n",
    "\\end{bmatrix}\n",
    "$$"
   ]
  },
  {
   "cell_type": "markdown",
   "metadata": {},
   "source": [
    "$$\\let\\vec\\mathbf$$\n",
    "## Vector Multiplication\n",
    "We have two vectors. They are $4 \\times 1$ vectors.\n",
    "\n",
    "$$\\vec{a} =\n",
    "\\begin{bmatrix}\n",
    "1 \\\\ 2 \\\\ 3 \\\\ 4\n",
    "\\end{bmatrix}$$\n",
    "\n",
    "$$\\vec{b} =\n",
    "\\begin{bmatrix}\n",
    "7 \\\\ 7 \\\\ 7 \\\\ 7\n",
    "\\end{bmatrix}$$\n",
    "\n",
    "We can multiply the two vectors, known as taking their **dot product**.\n",
    "\n",
    "$$\\vec{a} \\cdot \\vec{b} =\n",
    "\\begin{bmatrix}\n",
    "1 \\cdot 7 \\\\ 2 \\cdot 7 \\\\ 3 \\cdot 7 \\\\ 4 \\cdot 7\n",
    "\\end{bmatrix} = \n",
    "\\begin{bmatrix}\n",
    "7 \\\\ 14 \\\\ 21 \\\\ 28\n",
    "\\end{bmatrix}\n",
    "$$\n",
    "\n",
    "The above can be written as \"a transpose dot b\"\n",
    "\n",
    "$$\\vec{a}^T\\vec{b}$$"
   ]
  },
  {
   "cell_type": "markdown",
   "metadata": {},
   "source": [
    "## Matrix $\\times$ Vector Multiplication\n",
    "\n",
    "We can calculate the dot product of a $m \\times n$ matrix and a size $n$ vector, where the number of columns in the matrix ($n$) must equal the number of elements in the vector.\n",
    "\n",
    "$$A =\n",
    "\\begin{bmatrix}\n",
    "5 & 6 & 7 & 8 \\\\ \n",
    "15 & 16 & 17 & 18\n",
    "\\end{bmatrix}\n",
    "$$\n",
    "\n",
    "$$\n",
    "\\vec{b} = \\begin{bmatrix}\n",
    "1 \\\\ 2 \\\\ 3 \\\\ 4\n",
    "\\end{bmatrix}\n",
    "$$\n",
    "\n",
    "$$A \\cdot \\vec{b} =\n",
    "\\begin{bmatrix}\n",
    "5 \\cdot 1 + 6 \\cdot 2 + 7 \\cdot 3 + 8 \\cdot 4 \\\\\n",
    "15 \\cdot 1 + 16 \\cdot 2 + 17 \\cdot 3 + 18 \\cdot 4 \\\\\n",
    "\\end{bmatrix} = \n",
    "\\begin{bmatrix}\n",
    "70 \\\\\n",
    "170 \\\\\n",
    "\\end{bmatrix}\n",
    "$$"
   ]
  },
  {
   "cell_type": "code",
   "execution_count": 12,
   "metadata": {},
   "outputs": [
    {
     "data": {
      "text/plain": [
       "array([ 70, 170])"
      ]
     },
     "execution_count": 12,
     "metadata": {},
     "output_type": "execute_result"
    }
   ],
   "source": [
    "A = np.array([[5, 6, 7, 8], [15, 16, 17, 18]])\n",
    "b = np.array([1, 2, 3, 4])\n",
    "A.dot(b)"
   ]
  },
  {
   "cell_type": "markdown",
   "metadata": {},
   "source": [
    "## Matrix $\\times$ Matrix Multiplication\n",
    "We can calculate the dot product of two matrices having dimensions $m \\times n$ and $n \\times o$ whose inner dimensions ($n$) are be equal. The result will be of dimension $m \\times o$.\n",
    "\n",
    "This operation is like matrix-vector multiplication, but we perform that operation on each of $o$ vectors having size $n$. First we take the dot product of every row in the first matrix with the first column in the second matrix. Then we iterate over each column in the second matrix, performing like operations and adding the resulting column vectors to our result.\n",
    "\n",
    "$$\n",
    "A = \\begin{bmatrix} \n",
    "1 & 2 \\\\\n",
    "3 & 4 \n",
    "\\end{bmatrix}\n",
    "$$\n",
    "\n",
    "$$\n",
    "B = \\begin{bmatrix} \n",
    "5 & 6 \\\\\n",
    "7 & 8 \n",
    "\\end{bmatrix}\n",
    "$$\n",
    "\n",
    "$$\n",
    "A \\cdot B = \n",
    "\\begin{bmatrix} \n",
    "(1 \\cdot 5) + (2 \\cdot 7) & (1 \\cdot 6) + (2 \\cdot 8) \\\\\n",
    "(3 \\cdot 5) + (4 \\cdot 7) & (3 \\cdot 6) + (4 \\cdot 8)\n",
    "\\end{bmatrix} =\n",
    "\\begin{bmatrix} \n",
    "19 & 22 \\\\\n",
    "43 & 50\n",
    "\\end{bmatrix}\n",
    "$$"
   ]
  },
  {
   "cell_type": "code",
   "execution_count": 7,
   "metadata": {},
   "outputs": [
    {
     "data": {
      "text/plain": [
       "array([[19, 22],\n",
       "       [43, 50]])"
      ]
     },
     "execution_count": 7,
     "metadata": {},
     "output_type": "execute_result"
    }
   ],
   "source": [
    "a = np.array([[1, 2], [3, 4]])\n",
    "b = np.array([[5, 6], [7, 8]])\n",
    "a.dot(b)"
   ]
  },
  {
   "cell_type": "code",
   "execution_count": null,
   "metadata": {
    "collapsed": true
   },
   "outputs": [],
   "source": []
  }
 ],
 "metadata": {
  "kernelspec": {
   "display_name": "Python 3",
   "language": "python",
   "name": "python3"
  },
  "language_info": {
   "codemirror_mode": {
    "name": "ipython",
    "version": 3
   },
   "file_extension": ".py",
   "mimetype": "text/x-python",
   "name": "python",
   "nbconvert_exporter": "python",
   "pygments_lexer": "ipython3",
   "version": "3.6.3"
  }
 },
 "nbformat": 4,
 "nbformat_minor": 2
}
